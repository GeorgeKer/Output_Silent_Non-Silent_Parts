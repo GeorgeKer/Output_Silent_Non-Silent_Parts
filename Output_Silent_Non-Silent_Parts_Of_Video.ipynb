{
 "cells": [
  {
   "cell_type": "code",
   "execution_count": 7,
   "metadata": {},
   "outputs": [],
   "source": [
    "import math\n",
    "# import os\n",
    "# import subprocess\n",
    "# import sys\n",
    "import pandas as pd\n",
    "import numpy as np\n",
    "from moviepy.editor import AudioClip, VideoFileClip, concatenate_videoclips\n",
    "# from icecream import ic\n",
    "import matplotlib.pyplot as plt\n",
    "\n",
    "#  http://en.kremlin.ru/events/president/news/67828\n",
    "INPUT_FILE = r'/home/USERNAME/Downloads/Putin.mp4'\n",
    "OUTPUT_FILE = r'Putin.mp4'\n",
    "MIN_SECS_OF_APPENDED_CLIPS = 0.4            # in Seconds\n",
    "THRESHOLD_MAX = 0.009           # Max Volume of Cutted Subclip's Audio (for find_silence_intervals)\n",
    "THRESHOLD_MIN = 0.35          # Min Volume of Cutted Subclip's Audio (for find_non_silence_intervals)INPUT_FILE = r'/home/USERNAME/Downloads/Putin.mp4'\n",
    "all_max_volumes = []"
   ]
  },
  {
   "cell_type": "code",
   "execution_count": 8,
   "metadata": {},
   "outputs": [],
   "source": [
    "def find_silence_intervals(audio_clip, window_size=0.04, threshold=THRESHOLD_MAX):\n",
    "    # iterate over audio_clip\n",
    "    num_windows = math.floor(audio_clip.end/window_size)\n",
    "    silent_windows = []\n",
    "    silent_big_windows = []\n",
    "    window_is_silent_LST = []\n",
    "    for i in range(num_windows):\n",
    "        s = audio_clip.subclip(i * window_size, (i+1)* window_size)\n",
    "        v = s.max_volume()\n",
    "\n",
    "        all_max_volumes.append(v)\n",
    "        #append silent windows    \n",
    "        if v < threshold:\n",
    "            silent_windows.append([round(i*window_size,3),round((i+1)*window_size, 3)])\n",
    "            if len(silent_windows) > 1:\n",
    "                ### merge continuous windows\n",
    "                if silent_windows[-1][0] == silent_windows[-2][1]:\n",
    "                    ###debug\n",
    "                    # ic(silent_windows[-1][0], silent_windows[-2][1])\n",
    "                    silent_windows[-2] = [  silent_windows[-2][0], silent_windows[-1][1]  ]\n",
    "                    silent_windows = silent_windows[:-1]\n",
    "    # Keep only Big Windows\n",
    "    # ic(silent_windows)\n",
    "    for window in silent_windows:\n",
    "        start, end = (window[0] , window[1])\n",
    "        if end - start > MIN_SECS_OF_APPENDED_CLIPS:\n",
    "            # ic(window)\n",
    "            silent_big_windows.append(window) \n",
    "        \n",
    "    return silent_big_windows"
   ]
  },
  {
   "cell_type": "code",
   "execution_count": 9,
   "metadata": {},
   "outputs": [],
   "source": [
    "def find_non_silence_intervals(audio_clip,window_size=0.03, threshold=THRESHOLD_MIN):\n",
    "    #iterate over audio_clip\n",
    "    num_windows = math.floor(audio_clip.end/window_size)\n",
    "    not_silent_windows = []\n",
    "    non_silent_big_windows = []\n",
    "    for i in range(num_windows):\n",
    "        s = audio_clip.subclip(i * window_size, (i+1)* window_size)\n",
    "        v = s.max_volume()\n",
    "        if v > threshold:\n",
    "            not_silent_windows.append([i*window_size, (i+1)*window_size])\n",
    "\n",
    "    #Keep only Big Windows\n",
    "    for window in not_silent_windows:\n",
    "        start, end = (window[0] , window[1])\n",
    "        if end - start > MIN_SECS_OF_APPENDED_CLIPS:\n",
    "            # ic(window)\n",
    "            non_silent_big_windows.append(window) \n",
    "        \n",
    "    return not_silent_windows"
   ]
  },
  {
   "cell_type": "code",
   "execution_count": 10,
   "metadata": {},
   "outputs": [
    {
     "name": "stderr",
     "output_type": "stream",
     "text": [
      "chunk:   0%|          | 0/486 [00:00<?, ?it/s, now=None]"
     ]
    },
    {
     "name": "stdout",
     "output_type": "stream",
     "text": [
      "Moviepy - Building video Putin.mp4.\n",
      "MoviePy - Writing audio in temp-audio.m4a\n"
     ]
    },
    {
     "name": "stderr",
     "output_type": "stream",
     "text": [
      "t:   0%|          | 2/655 [00:00<00:52, 12.37it/s, now=None]      "
     ]
    },
    {
     "name": "stdout",
     "output_type": "stream",
     "text": [
      "MoviePy - Done.\n",
      "Moviepy - Writing video Putin.mp4\n",
      "\n"
     ]
    },
    {
     "name": "stderr",
     "output_type": "stream",
     "text": [
      "                                                              "
     ]
    },
    {
     "name": "stdout",
     "output_type": "stream",
     "text": [
      "Moviepy - Done !\n",
      "Moviepy - video ready Putin.mp4\n"
     ]
    },
    {
     "name": "stderr",
     "output_type": "stream",
     "text": [
      "\r"
     ]
    }
   ],
   "source": [
    "def main():\n",
    "    vid = VideoFileClip(INPUT_FILE)\n",
    "    intervals_to_keep = find_silence_intervals(vid.audio)\n",
    "    \n",
    "    subvids_to_keep = [vid.subclip(start, end) for [start, end] in intervals_to_keep]\n",
    "\n",
    "    edited_video = concatenate_videoclips(subvids_to_keep, method='compose', padding= -0.2)\n",
    "    edited_video.write_videofile(OUTPUT_FILE,\n",
    "        fps=30,\n",
    "        preset='ultrafast',\n",
    "        codec='libx264',\n",
    "        temp_audiofile='temp-audio.m4a',\n",
    "        remove_temp=True,\n",
    "        audio_codec='aac',\n",
    "        threads=6\n",
    "        )\n",
    "    \n",
    "    vid.close()\n",
    "\n",
    "if __name__ == \"__main__\":\n",
    "    main()"
   ]
  },
  {
   "cell_type": "markdown",
   "metadata": {},
   "source": [
    "## Histogram Of Max_Volumes Of SubClips"
   ]
  },
  {
   "cell_type": "code",
   "execution_count": 11,
   "metadata": {},
   "outputs": [
    {
     "data": {
      "image/png": "[encoded data removed]",
      "text/plain": [
       "<Figure size 1440x360 with 1 Axes>"
      ]
     },
     "metadata": {
      "needs_background": "light"
     },
     "output_type": "display_data"
    }
   ],
   "source": [
    "max_series = pd.Series(all_max_volumes)\n",
    "\n",
    "fig, ax = plt.subplots(figsize= (20, 5))\n",
    "n, bins, patches = ax.hist(max_series, 200, density=True)\n",
    "fig.tight_layout()\n",
    "plt.xticks(np.arange(0, max(max_series)/2, max(max_series)/200*2), rotation= 60, fontsize=7)\n",
    "\n",
    "ax.grid(True, linestyle='dotted')\n",
    "plt.show()\n",
    "\n"
   ]
  },
  {
   "cell_type": "markdown",
   "metadata": {},
   "source": [
    "## Normalize Audio Of OUTPUT_FILE"
   ]
  },
  {
   "cell_type": "code",
   "execution_count": 12,
   "metadata": {},
   "outputs": [
    {
     "name": "stdout",
     "output_type": "stream",
     "text": [
      "\u001b[1;34m\u001b[1;34m\u001b[1;34m\u001b[1;34m\u001b[1;34m\u001b[1;34mINFO\u001b[1;0m\u001b[1;0m\u001b[1;0m\u001b[1;0m\u001b[1;0m\u001b[1;0m: Normalizing file Putin.mp4 (1 of 1)\n",
      "\u001b[1;34m\u001b[1;34m\u001b[1;34m\u001b[1;34m\u001b[1;34m\u001b[1;34mINFO\u001b[1;0m\u001b[1;0m\u001b[1;0m\u001b[1;0m\u001b[1;0m\u001b[1;0m: Running first pass loudnorm filter for stream 1\n",
      "\u001b[1;34m\u001b[1;34m\u001b[1;34m\u001b[1;34m\u001b[1;34m\u001b[1;34mINFO\u001b[1;0m\u001b[1;0m\u001b[1;0m\u001b[1;0m\u001b[1;0m\u001b[1;0m: Running second pass for Putin.mp4\n",
      "\u001b[1;33m\u001b[1;33m\u001b[1;33m\u001b[1;33m\u001b[1;33m\u001b[1;33mWARNING\u001b[1;0m\u001b[1;0m\u001b[1;0m\u001b[1;0m\u001b[1;0m\u001b[1;0m: The sample rate will automatically be set to 192 kHz by the loudnorm filter. Specify -ar/--sample-rate to override it.\n",
      "\u001b[1;34m\u001b[1;34m\u001b[1;34m\u001b[1;34m\u001b[1;34m\u001b[1;34mINFO\u001b[1;0m\u001b[1;0m\u001b[1;0m\u001b[1;0m\u001b[1;0m\u001b[1;0m: Normalized file written to normalized/Putin.mkv\n"
     ]
    }
   ],
   "source": [
    "### Normalize Audio Of OUTPUT_FILE\n",
    "# %%bash\n",
    "! ffmpeg-normalize $OUTPUT_FILE -vf -t -35"
   ]
  },
  {
   "cell_type": "code",
   "execution_count": null,
   "metadata": {},
   "outputs": [],
   "source": []
  }
 ],
 "metadata": {
  "interpreter": {
   "hash": "d58c107ef9c844447595edfcbea94b436b4ec96a01c38f5998ee33f2beea4a5e"
  },
  "kernelspec": {
   "display_name": "Python 3.8.10 ('AV_20210619')",
   "language": "python",
   "name": "python3"
  },
  "language_info": {
   "codemirror_mode": {
    "name": "ipython",
    "version": 3
   },
   "file_extension": ".py",
   "mimetype": "text/x-python",
   "name": "python",
   "nbconvert_exporter": "python",
   "pygments_lexer": "ipython3",
   "version": "3.8.10"
  },
  "orig_nbformat": 4
 },
 "nbformat": 4,
 "nbformat_minor": 2
}
